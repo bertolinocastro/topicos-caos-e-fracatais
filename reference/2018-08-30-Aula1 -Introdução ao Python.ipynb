{
 "cells": [
  {
   "cell_type": "markdown",
   "metadata": {},
   "source": [
    "# 1. O que é?"
   ]
  },
  {
   "cell_type": "markdown",
   "metadata": {},
   "source": [
    "Python é uma linguagem dinâmica e imperativa.\n",
    "\n",
    "     Não há compilação nem etapas adicionais para fazer seu código funcionar.\n",
    "     Você pode simplesmente digitar seus comandos e as coisas simplesmente funcionarão.\n",
    "\n",
    "Nós vamos usar algo chamado [Jupyter Notebook] (http://jupyter.org/), pois torna a pesquisa facilmente compreensível e reproduzível. Este notebook servirá como uma rápida introdução ao notebook Python e Jupyter.\n",
    "\n",
    "Por exemplo, para imprimir as palavras \"Hello, World\", tudo o que precisamos fazer é digitar o código a seguir e executá-lo. Para executar o código, clique na caixa abaixo (chamada de célula), segure a tecla Shift e pressione Enter."
   ]
  },
  {
   "cell_type": "code",
   "execution_count": null,
   "metadata": {
    "scrolled": true
   },
   "outputs": [],
   "source": [
    "print(\"Hello, World\")"
   ]
  },
  {
   "cell_type": "markdown",
   "metadata": {},
   "source": [
    "O notebook contém * células * nas quais você pode inserir o código.\n",
    "* Para criar uma nova célula abaixo desta, clique neste texto, então aperte a tecla ESC, então aperte o botão 'b' no seu teclado * ou 'a' para colocar uma nova célula acima.\n",
    "* Você pode clicar duas vezes nesse texto para editá-lo.\n",
    "\n",
    "Execute todas as células de código que já estão no notebook à medida que você avança!"
   ]
  },
  {
   "cell_type": "markdown",
   "metadata": {},
   "source": [
    "# 2. Python primeiros passos"
   ]
  },
  {
   "cell_type": "markdown",
   "metadata": {},
   "source": [
    "Python é uma linguagem muito fácil de aprender. Se você quiser armazenar alguma informação em uma variável, use o sinal de igual (=). Execute a célula abaixo (clique nela, segure shift e pressione enter).\n",
    "\n",
    "Tipos de dados padrão\n",
    "* Números\n",
    "* String\n",
    "* Lista\n",
    "* Tuple\n",
    "* Dicionário"
   ]
  },
  {
   "cell_type": "markdown",
   "metadata": {},
   "source": [
    "## Tipos numericos:\n",
    "* int (signed integers)\n",
    "* long (long integers, they can also be represented in octal and hexadecimal)\n",
    "* float (floating point real values)\n",
    "* complex (complex numbers)"
   ]
  },
  {
   "cell_type": "code",
   "execution_count": null,
   "metadata": {},
   "outputs": [],
   "source": [
    "x = 5"
   ]
  },
  {
   "cell_type": "markdown",
   "metadata": {},
   "source": [
    "Agora, sempre que o Python vir 'x', você saberá que você quer dizer 5"
   ]
  },
  {
   "cell_type": "code",
   "execution_count": null,
   "metadata": {},
   "outputs": [],
   "source": [
    "print(x)"
   ]
  },
  {
   "cell_type": "markdown",
   "metadata": {},
   "source": [
    "O Jupyter Notebook é especial porque você não precisa digitar 'imprimir' todas as vezes. Se você acabou de terminar uma célula com uma variável, ela informará o valor dessa variável."
   ]
  },
  {
   "cell_type": "code",
   "execution_count": null,
   "metadata": {},
   "outputs": [],
   "source": [
    "x"
   ]
  },
  {
   "cell_type": "markdown",
   "metadata": {},
   "source": [
    " O Python tem muitos recursos padrão que você encontraria em uma linguagem de programação regular. Você pode adicionar coisas"
   ]
  },
  {
   "cell_type": "code",
   "execution_count": null,
   "metadata": {},
   "outputs": [],
   "source": [
    "(x+12)/2."
   ]
  },
  {
   "cell_type": "markdown",
   "metadata": {},
   "source": [
    "Você pode multiplicar, subtrair e dividir também! Tente cada um abaixo!"
   ]
  },
  {
   "cell_type": "code",
   "execution_count": null,
   "metadata": {},
   "outputs": [],
   "source": [
    "a=b=c=1.009 \n",
    "print(c)\n",
    "type(b) "
   ]
  },
  {
   "cell_type": "markdown",
   "metadata": {},
   "source": [
    "### String:\n",
    "\n",
    "Você declara strings com aspas duplas (\" \") ou aspas simples ('')"
   ]
  },
  {
   "cell_type": "code",
   "execution_count": null,
   "metadata": {},
   "outputs": [],
   "source": [
    "s = \"Parrot\"\n",
    "print(s)"
   ]
  },
  {
   "cell_type": "markdown",
   "metadata": {},
   "source": [
    "### Listas: \n",
    "* Python tem suporte embutido para listas.\n",
    "* Você pode criar listas com colchetes ([])."
   ]
  },
  {
   "cell_type": "code",
   "execution_count": null,
   "metadata": {},
   "outputs": [],
   "source": [
    "L = [\"Cheese\",\"Parrot\",\"Spam\",\"Sir Robin\",\"Ni!\"]\n",
    "print(L)"
   ]
  },
  {
   "cell_type": "markdown",
   "metadata": {},
   "source": [
    "Você pode acessar elementos em uma lista usando colchetes. Dentro dos colchetes, você pode colocar o número do elemento que deseja acessar (começando com 0)."
   ]
  },
  {
   "cell_type": "code",
   "execution_count": null,
   "metadata": {},
   "outputs": [],
   "source": [
    "L[2]"
   ]
  },
  {
   "cell_type": "markdown",
   "metadata": {},
   "source": [
    "Tente imprimir o último valor na lista usando a indexação. Lembre-se você tem que começar a contar a partir de 0!"
   ]
  },
  {
   "cell_type": "code",
   "execution_count": null,
   "metadata": {},
   "outputs": [],
   "source": [
    "M=list()\n",
    "print(M)\n",
    "M.append(2)\n",
    "print(M)\n",
    "M.append(3)\n",
    "M"
   ]
  },
  {
   "cell_type": "markdown",
   "metadata": {},
   "source": [
    "### Tuplas: \n",
    "As tuplas podem ser consideradas como listas somente leitura. \n",
    "\n",
    "Exemplo: \n",
    "\n",
    "tuple = ( 'abcd', 786 , 2.23, 'john', 70.2  )\n",
    "tinytuple = (123, 'john')\n"
   ]
  },
  {
   "cell_type": "markdown",
   "metadata": {},
   "source": [
    "### Dicionário\n",
    "\n",
    " * Esta é a implementação de uma tabela de hash.\n",
    " * É semelhante a uma lista, exceto que é indexada por outros objetos (chaves).\n",
    " * Eles são eficientes e o NetworkX faz uso extensivo deles.\n",
    " * Isso é feito usando chaves ({}) e dois pontos (:).\n",
    " * Eles associam um nome a um item. \n",
    " * Eles podem ser úteis para armazenar propriedades sobre um objeto.\n",
    " * Você pode adicionar coisas aos dicionários depois de criá-los."
   ]
  },
  {
   "cell_type": "code",
   "execution_count": null,
   "metadata": {},
   "outputs": [],
   "source": [
    "d = {\"Name\":\"Arthur\",\n",
    "     \"Occupation\":\"King of the Britons\",\n",
    "     \"Squire\":\"Patsy\",\n",
    "     \"Number of Subjects\":1250238}\n",
    "print(d[\"Name\"])\n",
    "d[\"Sword\"] = \"Excalibur\"\n",
    "print(d.keys())\n",
    "print(d.values())\n",
    "print(type(d.keys()))\n",
    "for key in sorted(d.keys()):\n",
    "    print(key,d[key])\n",
    "print('Done')"
   ]
  },
  {
   "cell_type": "markdown",
   "metadata": {},
   "source": [
    "# A. If statements"
   ]
  },
  {
   "cell_type": "markdown",
   "metadata": {},
   "source": [
    "\"if statements\" permitirem que seu código tome decisões, por exemplo:"
   ]
  },
  {
   "cell_type": "code",
   "execution_count": null,
   "metadata": {},
   "outputs": [],
   "source": [
    "x = 1\n",
    "if x > 10: # lembre que  '>'  significa maior que\n",
    "    print(\"SOOO BIG!\")\n",
    "elif x < 5:\n",
    "    print(\"Not so big\")\n",
    "else:\n",
    "    print('x between 5 and 10',x)"
   ]
  },
  {
   "cell_type": "markdown",
   "metadata": {},
   "source": [
    "# B. Loops"
   ]
  },
  {
   "cell_type": "markdown",
   "metadata": {},
   "source": [
    "Às vezes queremos fazer coisas repetidamente. A melhor maneira de fazer isso é com loops."
   ]
  },
  {
   "cell_type": "code",
   "execution_count": null,
   "metadata": {},
   "outputs": [],
   "source": [
    "for name in [\"Bob\",\"Bill\",\"Helga\",\"Joe\",\"Mike\",\"Brenda\"]:\n",
    "    print(\"Hello, \"+name+ \"!\")"
   ]
  },
  {
   "cell_type": "markdown",
   "metadata": {},
   "source": [
    "Copy the code above. At a variable i=0 before the loop. Inside the loop make it so 1 is added to i each time through, and print i."
   ]
  },
  {
   "cell_type": "code",
   "execution_count": null,
   "metadata": {},
   "outputs": [],
   "source": [
    "for i in range(0, 10):\n",
    "    print(i),"
   ]
  },
  {
   "cell_type": "code",
   "execution_count": null,
   "metadata": {},
   "outputs": [],
   "source": [
    "string = \"Hello World\"\n",
    "for x in string:\n",
    "    print(x)"
   ]
  },
  {
   "cell_type": "markdown",
   "metadata": {},
   "source": [
    "# Bibliotecas Python"
   ]
  },
  {
   "cell_type": "markdown",
   "metadata": {},
   "source": [
    "## Ambientes interativos avançados:\n",
    " * IPython, um console avançado do Python http://ipython.org/\n",
    " * Jupyter, cadernos no navegador http://jupyter.org/"
   ]
  },
  {
   "cell_type": "markdown",
   "metadata": {},
   "source": [
    "## Numpy\n",
    "O NumPy é o pacote fundamental para computação científica com o Python.\n",
    "\n",
    "Ele contém entre outras coisas:\n",
    "\n",
    "* um poderoso objeto array N-dimensional\n",
    "* funções sofisticadas (transmissão)\n",
    "* ferramentas para integrar código C / C ++ e Fortran\n",
    "* álgebra linear útil, transformada de Fourier e capacidades de números aleatórios"
   ]
  },
  {
   "cell_type": "code",
   "execution_count": null,
   "metadata": {},
   "outputs": [],
   "source": [
    "import numpy as np"
   ]
  },
  {
   "cell_type": "markdown",
   "metadata": {},
   "source": [
    "Agora você pode ver todas as funções em numpy digitando np. [TAB], que é o tipo np. e, em seguida, aperte a tecla tab"
   ]
  },
  {
   "cell_type": "markdown",
   "metadata": {},
   "source": [
    "## SciPy \n",
    " Ele fornece muitas rotinas numéricas amigáveis ​​e eficientes, como rotinas para integração numérica e otimização."
   ]
  },
  {
   "cell_type": "code",
   "execution_count": null,
   "metadata": {},
   "outputs": [],
   "source": [
    "import numpy as np\n",
    "from scipy import stats #o mesmo para os outros sub-modulos"
   ]
  },
  {
   "cell_type": "code",
   "execution_count": null,
   "metadata": {},
   "outputs": [],
   "source": [
    "import numpy as np\n",
    "from scipy import linalg\n",
    "arr = np.array([[1, 2],\n",
    "                [3, 4]])\n",
    "linalg.det(arr)"
   ]
  },
  {
   "cell_type": "markdown",
   "metadata": {},
   "source": [
    "## matplotlib"
   ]
  },
  {
   "cell_type": "code",
   "execution_count": null,
   "metadata": {},
   "outputs": [],
   "source": [
    "%matplotlib inline"
   ]
  },
  {
   "cell_type": "code",
   "execution_count": null,
   "metadata": {},
   "outputs": [],
   "source": [
    "import numpy as np\n",
    "import matplotlib.pyplot as plt\n",
    "\n",
    "X = np.linspace(-np.pi, np.pi, 256, endpoint=True)\n",
    "C, S = np.cos(X), np.sin(X)\n",
    "\n",
    "plt.plot(X, C)\n",
    "plt.plot(X, S)\n",
    "\n",
    "plt.show()"
   ]
  },
  {
   "cell_type": "markdown",
   "metadata": {},
   "source": [
    "## SymPy\n",
    "biblioteca Python para matemática simbólica."
   ]
  },
  {
   "cell_type": "code",
   "execution_count": null,
   "metadata": {},
   "outputs": [],
   "source": [
    "from sympy import *\n",
    "x = Symbol('x')\n",
    "y = Symbol('y')\n",
    "expand((x+y)**3)"
   ]
  },
  {
   "cell_type": "markdown",
   "metadata": {},
   "source": [
    "### Cálculo"
   ]
  },
  {
   "cell_type": "code",
   "execution_count": null,
   "metadata": {},
   "outputs": [],
   "source": [
    "\n",
    "limit(sin(x)/x, x, 0)"
   ]
  },
  {
   "cell_type": "code",
   "execution_count": null,
   "metadata": {},
   "outputs": [],
   "source": [
    "limit(x, x, oo)"
   ]
  },
  {
   "cell_type": "code",
   "execution_count": null,
   "metadata": {},
   "outputs": [],
   "source": [
    "diff(sin(x), x)"
   ]
  },
  {
   "cell_type": "code",
   "execution_count": null,
   "metadata": {},
   "outputs": [],
   "source": [
    "series(cos(x), x)"
   ]
  },
  {
   "cell_type": "markdown",
   "metadata": {},
   "source": [
    "### Solução de equação¶"
   ]
  },
  {
   "cell_type": "code",
   "execution_count": null,
   "metadata": {},
   "outputs": [],
   "source": [
    "solve(x**4 - 1, x)"
   ]
  },
  {
   "cell_type": "code",
   "execution_count": 8,
   "metadata": {},
   "outputs": [
    {
     "data": {
      "text/plain": [
       "[(0.0, 0.0), (2.00000000000000, 2.50000000000000)]"
      ]
     },
     "execution_count": 8,
     "metadata": {},
     "output_type": "execute_result"
    }
   ],
   "source": [
    "# Lotka-Volterra\n",
    "from sympy import *\n",
    "r=0.5\n",
    "a=0.2\n",
    "b=0.1\n",
    "d=0.2\n",
    "x = Symbol('x')\n",
    "y = Symbol('y')\n",
    "solve([r*x -a*x*y, b*x*y -d*y], [x, y])"
   ]
  },
  {
   "cell_type": "code",
   "execution_count": 99,
   "metadata": {},
   "outputs": [
    {
     "data": {
      "text/plain": [
       "[(0, 0), (d/b, r/a)]"
      ]
     },
     "execution_count": 99,
     "metadata": {},
     "output_type": "execute_result"
    }
   ],
   "source": [
    "import sympy as sym\n",
    "x,y,r,a,b,d = sym.symbols('x,y,r,a,b,d')\n",
    "sym.solve([r*x -a*x*y, b*x*y -d*y], [x, y])"
   ]
  },
  {
   "cell_type": "markdown",
   "metadata": {},
   "source": [
    "## networkx"
   ]
  },
  {
   "cell_type": "code",
   "execution_count": null,
   "metadata": {},
   "outputs": [],
   "source": [
    "import networkx as nx"
   ]
  }
 ],
 "metadata": {
  "kernelspec": {
   "display_name": "Python 3",
   "language": "python",
   "name": "python3"
  },
  "language_info": {
   "codemirror_mode": {
    "name": "ipython",
    "version": 3
   },
   "file_extension": ".py",
   "mimetype": "text/x-python",
   "name": "python",
   "nbconvert_exporter": "python",
   "pygments_lexer": "ipython3",
   "version": "3.7.0"
  }
 },
 "nbformat": 4,
 "nbformat_minor": 1
}
